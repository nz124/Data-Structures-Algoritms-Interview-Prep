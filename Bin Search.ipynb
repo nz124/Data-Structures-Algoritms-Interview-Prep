{
 "cells": [
  {
   "cell_type": "markdown",
   "metadata": {},
   "source": [
    "# Binary Search\n"
   ]
  },
  {
   "cell_type": "raw",
   "metadata": {},
   "source": [
    "We use a binary search algorithm to search for a key element in a given SORTED list.\n",
    "Complexity: O(log n) time complexity"
   ]
  },
  {
   "cell_type": "code",
   "execution_count": 74,
   "metadata": {},
   "outputs": [],
   "source": [
    "def iterative_bs(arr, key):\n",
    "    l,h = 0,len(arr)-1\n",
    "    while(l<=h):\n",
    "        mid = (l+h)//2\n",
    "        if arr[mid] == key:\n",
    "            return mid\n",
    "        elif arr[mid] > key:\n",
    "            h=mid-1\n",
    "        else:\n",
    "            l=mid+1\n",
    "    return '{} {}'.format(key,'Not Found')"
   ]
  },
  {
   "cell_type": "code",
   "execution_count": 75,
   "metadata": {},
   "outputs": [],
   "source": [
    "def recursive_bs(arr, key, l, h):\n",
    "    mid=(l+h)//2\n",
    "    if l == h:\n",
    "        if arr[l] == key:\n",
    "            return l\n",
    "    else:\n",
    "        if l<h:\n",
    "            if arr[mid] > key:\n",
    "                  return recursive_bs(arr, key, l, mid-1)\n",
    "            return recursive_bs(arr, key, mid+1, h)\n",
    "    return '{} {}'.format(key,'Not Found')"
   ]
  },
  {
   "cell_type": "code",
   "execution_count": 76,
   "metadata": {},
   "outputs": [
    {
     "data": {
      "text/plain": [
       "True"
      ]
     },
     "execution_count": 76,
     "metadata": {},
     "output_type": "execute_result"
    }
   ],
   "source": [
    "arr,key = [-16,0,28,45],10\n",
    "recursive_bs(arr, key, 0, len(arr)-1) == '10 Not Found'"
   ]
  },
  {
   "cell_type": "code",
   "execution_count": 77,
   "metadata": {},
   "outputs": [
    {
     "data": {
      "text/plain": [
       "True"
      ]
     },
     "execution_count": 77,
     "metadata": {},
     "output_type": "execute_result"
    }
   ],
   "source": [
    "arr,key = [0],10\n",
    "iterative_bs(arr, key) == '10 Not Found'"
   ]
  },
  {
   "cell_type": "code",
   "execution_count": 78,
   "metadata": {},
   "outputs": [
    {
     "data": {
      "text/plain": [
       "True"
      ]
     },
     "execution_count": 78,
     "metadata": {},
     "output_type": "execute_result"
    }
   ],
   "source": [
    "recursive_bs(arr, key, 0, len(arr)-1) == '10 Not Found'"
   ]
  },
  {
   "cell_type": "code",
   "execution_count": 79,
   "metadata": {},
   "outputs": [
    {
     "data": {
      "text/plain": [
       "True"
      ]
     },
     "execution_count": 79,
     "metadata": {},
     "output_type": "execute_result"
    }
   ],
   "source": [
    "arr,key = [-16,0,28,45],10 \n",
    "iterative_bs(arr, key) == '10 Not Found'"
   ]
  },
  {
   "cell_type": "code",
   "execution_count": 80,
   "metadata": {},
   "outputs": [
    {
     "data": {
      "text/plain": [
       "True"
      ]
     },
     "execution_count": 80,
     "metadata": {},
     "output_type": "execute_result"
    }
   ],
   "source": [
    "recursive_bs(arr, key, 0, len(arr)-1) == '10 Not Found'"
   ]
  },
  {
   "cell_type": "code",
   "execution_count": 81,
   "metadata": {},
   "outputs": [
    {
     "data": {
      "text/plain": [
       "True"
      ]
     },
     "execution_count": 81,
     "metadata": {},
     "output_type": "execute_result"
    }
   ],
   "source": [
    "arr,key = [-16,0,28,45], 45\n",
    "iterative_bs(arr, key) == 3"
   ]
  },
  {
   "cell_type": "code",
   "execution_count": 82,
   "metadata": {},
   "outputs": [
    {
     "data": {
      "text/plain": [
       "True"
      ]
     },
     "execution_count": 82,
     "metadata": {},
     "output_type": "execute_result"
    }
   ],
   "source": [
    "recursive_bs(arr, key, 0, len(arr)-1) == 3"
   ]
  }
 ],
 "metadata": {
  "kernelspec": {
   "display_name": "Python 3",
   "language": "python",
   "name": "python3"
  },
  "language_info": {
   "codemirror_mode": {
    "name": "ipython",
    "version": 3
   },
   "file_extension": ".py",
   "mimetype": "text/x-python",
   "name": "python",
   "nbconvert_exporter": "python",
   "pygments_lexer": "ipython3",
   "version": "3.7.4"
  }
 },
 "nbformat": 4,
 "nbformat_minor": 2
}
