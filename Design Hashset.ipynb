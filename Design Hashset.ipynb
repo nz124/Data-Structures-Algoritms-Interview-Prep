{
 "cells": [
  {
   "cell_type": "code",
   "execution_count": 9,
   "metadata": {},
   "outputs": [
    {
     "ename": "SyntaxError",
     "evalue": "invalid syntax (<ipython-input-9-521de7176929>, line 1)",
     "output_type": "error",
     "traceback": [
      "\u001b[1;36m  File \u001b[1;32m\"<ipython-input-9-521de7176929>\"\u001b[1;36m, line \u001b[1;32m1\u001b[0m\n\u001b[1;33m    Design Hashset\u001b[0m\n\u001b[1;37m                 ^\u001b[0m\n\u001b[1;31mSyntaxError\u001b[0m\u001b[1;31m:\u001b[0m invalid syntax\n"
     ]
    }
   ],
   "source": [
    "Design Hashset"
   ]
  },
  {
   "cell_type": "code",
   "execution_count": 10,
   "metadata": {},
   "outputs": [],
   "source": [
    "class Bucket:\n",
    "    def __init__(self):\n",
    "        self.bucket = []\n",
    "    def put(self,key):\n",
    "        added = False\n",
    "        for i in range(len(self.bucket)):\n",
    "            if self.bucket[i] == key:\n",
    "                added = True\n",
    "                break;\n",
    "        if not added:\n",
    "            self.bucket.append(key)\n",
    "    def rmv(self, key):\n",
    "        for i,k in enumerate(self.bucket):\n",
    "            if key==k:\n",
    "                del self.bucket[i]\n",
    "    def has(self,key):\n",
    "        for i in range(len(self.bucket)):\n",
    "            if self.bucket[i] == key: \n",
    "                return True\n",
    "        return False\n",
    "    \n",
    "class MyHashSet:\n",
    "    def __init__(self):\n",
    "        self.key_space = 2096\n",
    "        self.hash_set = [Bucket() for i in range(self.key_space)]\n",
    "        \n",
    "    def add(self, key: int) -> None:\n",
    "        hash_code = key%self.key_space\n",
    "        self.hash_set[hash_code].put(key)\n",
    "\n",
    "    def remove(self, key: int) -> None:\n",
    "        hash_code = key%self.key_space\n",
    "        self.hash_set[hash_code].rmv(key)\n",
    "\n",
    "    def contains(self, key: int) -> bool:\n",
    "        hash_code = key%self.key_space\n",
    "        return self.hash_set[hash_code].has(key)\n",
    "        \n",
    "\n",
    "# Your MyHashSet object will be instantiated and called as such:\n",
    "# obj = MyHashSet()\n",
    "# obj.add(key)\n",
    "# obj.remove(key)\n",
    "# param_3 = obj.contains(key)"
   ]
  },
  {
   "cell_type": "code",
   "execution_count": null,
   "metadata": {},
   "outputs": [],
   "source": []
  }
 ],
 "metadata": {
  "kernelspec": {
   "display_name": "Python 3",
   "language": "python",
   "name": "python3"
  },
  "language_info": {
   "codemirror_mode": {
    "name": "ipython",
    "version": 3
   },
   "file_extension": ".py",
   "mimetype": "text/x-python",
   "name": "python",
   "nbconvert_exporter": "python",
   "pygments_lexer": "ipython3",
   "version": "3.7.4"
  }
 },
 "nbformat": 4,
 "nbformat_minor": 2
}
