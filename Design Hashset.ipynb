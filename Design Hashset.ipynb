{
 "cells": [
  {
   "cell_type": "raw",
   "metadata": {},
   "source": [
    "Design Hashset"
   ]
  },
  {
   "cell_type": "code",
   "execution_count": 10,
   "metadata": {},
   "outputs": [],
   "source": [
    "class Bucket:\n",
    "    def __init__(self):\n",
    "        self.bucket = []\n",
    "    def put(self,key):\n",
    "        added = False\n",
    "        for i in range(len(self.bucket)):\n",
    "            if self.bucket[i] == key:\n",
    "                added = True\n",
    "                break;\n",
    "        if not added:\n",
    "            self.bucket.append(key)\n",
    "    def rmv(self, key):\n",
    "        for i,k in enumerate(self.bucket):\n",
    "            if key==k:\n",
    "                del self.bucket[i]\n",
    "    def has(self,key):\n",
    "        for i in range(len(self.bucket)):\n",
    "            if self.bucket[i] == key: \n",
    "                return True\n",
    "        return False\n",
    "    \n",
    "class MyHashSet:\n",
    "    def __init__(self):\n",
    "        self.key_space = 2096\n",
    "        self.hash_set = [Bucket() for i in range(self.key_space)]\n",
    "        \n",
    "    def add(self, key: int) -> None:\n",
    "        hash_code = key%self.key_space\n",
    "        self.hash_set[hash_code].put(key)\n",
    "\n",
    "    def remove(self, key: int) -> None:\n",
    "        hash_code = key%self.key_space\n",
    "        self.hash_set[hash_code].rmv(key)\n",
    "\n",
    "    def contains(self, key: int) -> bool:\n",
    "        hash_code = key%self.key_space\n",
    "        return self.hash_set[hash_code].has(key)\n",
    "        \n",
    "\n",
    "# Your MyHashSet object will be instantiated and called as such:\n",
    "# obj = MyHashSet()\n",
    "# obj.add(key)\n",
    "# obj.remove(key)\n",
    "# param_3 = obj.contains(key)"
   ]
  },
  {
   "cell_type": "code",
   "execution_count": 14,
   "metadata": {},
   "outputs": [],
   "source": [
    "def sortColors(nums):\n",
    "    z = 0\n",
    "    for i in range(len(nums)):\n",
    "        if nums[i] == 0:\n",
    "            nums[i], nums[z] = nums[z], nums[i]\n",
    "            z+=1 \n",
    "    one = z\n",
    "    for j in range(z,len(nums)):\n",
    "        if nums[j] == 1:\n",
    "            nums[j], nums[one] = nums[one], nums[j]\n",
    "            one+=1\n",
    "    return nums"
   ]
  },
  {
   "cell_type": "code",
   "execution_count": 15,
   "metadata": {},
   "outputs": [
    {
     "data": {
      "text/plain": [
       "[0, 0, 1, 1, 2, 2]"
      ]
     },
     "execution_count": 15,
     "metadata": {},
     "output_type": "execute_result"
    }
   ],
   "source": [
    "sortColors([2,0,2,1,1,0])"
   ]
  },
  {
   "cell_type": "code",
   "execution_count": 40,
   "metadata": {},
   "outputs": [],
   "source": [
    "versions_list = [\"1.1.2\", \"1.0.0\", \"1.3.3\", \"1.0.12\", \"1.0.2\"]"
   ]
  },
  {
   "cell_type": "code",
   "execution_count": 41,
   "metadata": {},
   "outputs": [
    {
     "data": {
      "text/plain": [
       "['1.0.0', '1.0.2', '1.0.12', '1.1.2', '1.3.3']"
      ]
     },
     "execution_count": 41,
     "metadata": {},
     "output_type": "execute_result"
    }
   ],
   "source": [
    "sorted(versions_list, key = lambda s: [int(i) for i in s.split('.')])"
   ]
  },
  {
   "cell_type": "code",
   "execution_count": 68,
   "metadata": {},
   "outputs": [],
   "source": [
    "def rmvdots(version):\n",
    "    s =  (''.join([digit for digit in version.split('.')]))\n",
    "    ans = int(s)\n",
    "    if s == version:\n",
    "        return ans\n",
    "    len_s = len(s)-1\n",
    "    return ans/(10**len_s)"
   ]
  },
  {
   "cell_type": "code",
   "execution_count": 69,
   "metadata": {},
   "outputs": [
    {
     "data": {
      "text/plain": [
       "5"
      ]
     },
     "execution_count": 69,
     "metadata": {},
     "output_type": "execute_result"
    }
   ],
   "source": [
    "rmvdots('05')"
   ]
  },
  {
   "cell_type": "code",
   "execution_count": 70,
   "metadata": {},
   "outputs": [
    {
     "data": {
      "text/plain": [
       "0.5"
      ]
     },
     "execution_count": 70,
     "metadata": {},
     "output_type": "execute_result"
    }
   ],
   "source": [
    "rmvdots('0.5')"
   ]
  },
  {
   "cell_type": "code",
   "execution_count": 62,
   "metadata": {},
   "outputs": [
    {
     "data": {
      "text/plain": [
       "True"
      ]
     },
     "execution_count": 62,
     "metadata": {},
     "output_type": "execute_result"
    }
   ],
   "source": [
    "'9'.split('.') == ['9']"
   ]
  },
  {
   "cell_type": "code",
   "execution_count": null,
   "metadata": {},
   "outputs": [],
   "source": [
    " "
   ]
  }
 ],
 "metadata": {
  "kernelspec": {
   "display_name": "Python 3",
   "language": "python",
   "name": "python3"
  },
  "language_info": {
   "codemirror_mode": {
    "name": "ipython",
    "version": 3
   },
   "file_extension": ".py",
   "mimetype": "text/x-python",
   "name": "python",
   "nbconvert_exporter": "python",
   "pygments_lexer": "ipython3",
   "version": "3.7.4"
  }
 },
 "nbformat": 4,
 "nbformat_minor": 2
}
