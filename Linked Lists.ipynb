{
 "cells": [
  {
   "cell_type": "markdown",
   "metadata": {},
   "source": [
    "# Linked Lists"
   ]
  },
  {
   "cell_type": "code",
   "execution_count": 3,
   "metadata": {},
   "outputs": [],
   "source": [
    "class Node:\n",
    "    def __init__(self, data):\n",
    "        self.data = data\n",
    "        self.next = None\n",
    "        \n",
    "class LL:\n",
    "    def __init__(self):\n",
    "        self.head = None\n",
    "        \n",
    "    def append(self, data):\n",
    "        new_node = Node(data)\n",
    "        if self.head == None:\n",
    "            self.head = new_node\n",
    "        else:\n",
    "            curr = self.head\n",
    "            while curr.next != None:\n",
    "                curr = curr.next\n",
    "            curr.next = new_node\n",
    "            \n",
    "    def print_LL(self):\n",
    "        curr = self.head\n",
    "        res = []\n",
    "        while curr:\n",
    "            res.append(curr.data)\n",
    "            curr = curr.next\n",
    "        return res\n",
    "    \n",
    "    def preppend(self, data):\n",
    "        #This methods adds a node to the beginning of LL\n",
    "        new_node = Node(data)\n",
    "        if self.head == None:\n",
    "            self.head = new_node\n",
    "        else:\n",
    "            new_node.next = self.head\n",
    "            self.head = new_node\n",
    "            \n",
    "    def remove(self, data):\n",
    "        curr = self.head\n",
    "        if data == curr.data:\n",
    "            self.head = curr.next\n",
    "        else:\n",
    "            while curr and curr.data != data:\n",
    "                prev = curr\n",
    "                curr = curr.next\n",
    "            if curr == None:\n",
    "                return '{} {}'.format(data, 'Not in LL1')\n",
    "            else:\n",
    "                prev.next = curr.next\n",
    "                \n",
    "    def insert_after(self, node, data):\n",
    "        new_node, curr = Node(data), self.head\n",
    "        if curr == None:\n",
    "            self.head = new_Node\n",
    "        elif curr.next == None:\n",
    "            self.head.next = new_node\n",
    "        else:\n",
    "            while curr and curr.data != node.data:\n",
    "                curr = curr.next\n",
    "                nxt = curr.next\n",
    "                \n",
    "            curr.next = new_node\n",
    "            new_node.next = nxt\n",
    "            \n",
    "    def swap(self, data1, data2):\n",
    "        #Case1 --> none of curr1 and curr2 are head nodes\n",
    "        #Case2 --> one of them is a head node\n",
    "        if data1 != data2:\n",
    "            curr1, curr2, prev1, prev2 = self.head, self.head, None, None\n",
    "             \n",
    "            while curr1 and curr1.data != data1:\n",
    "                prev1 = curr1\n",
    "                curr1 = curr1.next\n",
    "                \n",
    "            while curr2 and curr2.data != data2:\n",
    "                prev2 = curr2\n",
    "                curr2 = curr2.next\n",
    "                \n",
    "            if not curr1 or not curr2: #none of the nodes have the passed in data fields -- nothing to swap\n",
    "                return \n",
    "            \n",
    "            if prev1: #curr1 is not a head node\n",
    "                prev1.next = curr2\n",
    "            else: #curr1 is a head node\n",
    "                self.head = curr2\n",
    "                \n",
    "            if prev2: #curr2 is not a head node\n",
    "                prev2.next = curr1\n",
    "            else: #curr1 is a head node\n",
    "                self.head = curr1\n",
    "                \n",
    "            curr1.next, curr2.next = curr2.next, curr1.next"
   ]
  },
  {
   "cell_type": "code",
   "execution_count": 4,
   "metadata": {},
   "outputs": [],
   "source": [
    "LL1 = LL()"
   ]
  },
  {
   "cell_type": "code",
   "execution_count": 5,
   "metadata": {},
   "outputs": [],
   "source": [
    "LL1.preppend(0)"
   ]
  },
  {
   "cell_type": "code",
   "execution_count": 6,
   "metadata": {},
   "outputs": [],
   "source": [
    "LL1.append('A')\n",
    "LL1.append('B')\n",
    "LL1.append(1)"
   ]
  },
  {
   "cell_type": "code",
   "execution_count": 7,
   "metadata": {},
   "outputs": [
    {
     "data": {
      "text/plain": [
       "[0, 'A', 'B', 1]"
      ]
     },
     "execution_count": 7,
     "metadata": {},
     "output_type": "execute_result"
    }
   ],
   "source": [
    "LL1.print_LL()"
   ]
  },
  {
   "cell_type": "code",
   "execution_count": 8,
   "metadata": {},
   "outputs": [
    {
     "data": {
      "text/plain": [
       "['A', 'B', 1]"
      ]
     },
     "execution_count": 8,
     "metadata": {},
     "output_type": "execute_result"
    }
   ],
   "source": [
    "LL1. remove(0)\n",
    "LL1.print_LL()"
   ]
  },
  {
   "cell_type": "code",
   "execution_count": 9,
   "metadata": {},
   "outputs": [
    {
     "data": {
      "text/plain": [
       "'0 Not in LL1'"
      ]
     },
     "execution_count": 9,
     "metadata": {},
     "output_type": "execute_result"
    }
   ],
   "source": [
    "LL1. remove(0)"
   ]
  },
  {
   "cell_type": "code",
   "execution_count": 10,
   "metadata": {},
   "outputs": [
    {
     "data": {
      "text/plain": [
       "['A', 'B', 1]"
      ]
     },
     "execution_count": 10,
     "metadata": {},
     "output_type": "execute_result"
    }
   ],
   "source": [
    "LL1.print_LL()"
   ]
  },
  {
   "cell_type": "code",
   "execution_count": 11,
   "metadata": {},
   "outputs": [],
   "source": [
    "LL1. remove(1)"
   ]
  },
  {
   "cell_type": "code",
   "execution_count": 12,
   "metadata": {},
   "outputs": [
    {
     "data": {
      "text/plain": [
       "['A', 'B']"
      ]
     },
     "execution_count": 12,
     "metadata": {},
     "output_type": "execute_result"
    }
   ],
   "source": [
    "LL1.print_LL()"
   ]
  },
  {
   "cell_type": "code",
   "execution_count": 13,
   "metadata": {},
   "outputs": [],
   "source": [
    "LL1.append('D')"
   ]
  },
  {
   "cell_type": "code",
   "execution_count": 14,
   "metadata": {},
   "outputs": [
    {
     "data": {
      "text/plain": [
       "['A', 'B', 'D']"
      ]
     },
     "execution_count": 14,
     "metadata": {},
     "output_type": "execute_result"
    }
   ],
   "source": [
    "LL1.print_LL()"
   ]
  },
  {
   "cell_type": "code",
   "execution_count": 15,
   "metadata": {},
   "outputs": [],
   "source": [
    "nodeB = LL1.head.next\n",
    "LL1.insert_after(nodeB, 'C')"
   ]
  },
  {
   "cell_type": "code",
   "execution_count": 16,
   "metadata": {},
   "outputs": [
    {
     "data": {
      "text/plain": [
       "['A', 'B', 'C', 'D']"
      ]
     },
     "execution_count": 16,
     "metadata": {},
     "output_type": "execute_result"
    }
   ],
   "source": [
    "LL1.print_LL()"
   ]
  },
  {
   "cell_type": "code",
   "execution_count": 17,
   "metadata": {},
   "outputs": [
    {
     "data": {
      "text/plain": [
       "['A', 'C', 'B', 'D']"
      ]
     },
     "execution_count": 17,
     "metadata": {},
     "output_type": "execute_result"
    }
   ],
   "source": [
    "LL1.swap('B','C')\n",
    "LL1.print_LL()"
   ]
  },
  {
   "cell_type": "code",
   "execution_count": 18,
   "metadata": {},
   "outputs": [
    {
     "data": {
      "text/plain": [
       "['A', 'C', 'B', 'D', 'E', 'F']"
      ]
     },
     "execution_count": 18,
     "metadata": {},
     "output_type": "execute_result"
    }
   ],
   "source": [
    "LL1.append('E')\n",
    "LL1.append('F')\n",
    "LL1.print_LL()"
   ]
  },
  {
   "cell_type": "code",
   "execution_count": 19,
   "metadata": {},
   "outputs": [
    {
     "data": {
      "text/plain": [
       "['A', 'C', 'B', 'E', 'D', 'F']"
      ]
     },
     "execution_count": 19,
     "metadata": {},
     "output_type": "execute_result"
    }
   ],
   "source": [
    "LL1.swap('D','E')\n",
    "LL1.print_LL()"
   ]
  },
  {
   "cell_type": "code",
   "execution_count": 20,
   "metadata": {},
   "outputs": [
    {
     "data": {
      "text/plain": [
       "['A', 'C', 'D', 'E', 'B', 'F']"
      ]
     },
     "execution_count": 20,
     "metadata": {},
     "output_type": "execute_result"
    }
   ],
   "source": [
    "LL1.swap('B','D')\n",
    "LL1.print_LL()"
   ]
  },
  {
   "cell_type": "code",
   "execution_count": 21,
   "metadata": {},
   "outputs": [
    {
     "data": {
      "text/plain": [
       "['C', 'A', 'D', 'E', 'B', 'F']"
      ]
     },
     "execution_count": 21,
     "metadata": {},
     "output_type": "execute_result"
    }
   ],
   "source": [
    "LL1.swap('A','C')\n",
    "LL1.print_LL()"
   ]
  },
  {
   "cell_type": "code",
   "execution_count": 22,
   "metadata": {},
   "outputs": [
    {
     "data": {
      "text/plain": [
       "['B', 'A', 'D', 'E', 'C', 'F']"
      ]
     },
     "execution_count": 22,
     "metadata": {},
     "output_type": "execute_result"
    }
   ],
   "source": [
    "LL1.swap('C','B')\n",
    "LL1.print_LL()"
   ]
  },
  {
   "cell_type": "code",
   "execution_count": 23,
   "metadata": {},
   "outputs": [
    {
     "data": {
      "text/plain": [
       "['B', 'A', 'D', 'E', 'C', 'F']"
      ]
     },
     "execution_count": 23,
     "metadata": {},
     "output_type": "execute_result"
    }
   ],
   "source": [
    "LL1.swap('D','D')\n",
    "LL1.print_LL()"
   ]
  },
  {
   "cell_type": "code",
   "execution_count": 24,
   "metadata": {},
   "outputs": [
    {
     "data": {
      "text/plain": [
       "['A', 'D', 'E', 'C', 'F']"
      ]
     },
     "execution_count": 24,
     "metadata": {},
     "output_type": "execute_result"
    }
   ],
   "source": [
    "LL1.remove('B')\n",
    "LL1.print_LL()"
   ]
  }
 ],
 "metadata": {
  "kernelspec": {
   "display_name": "Python 3",
   "language": "python",
   "name": "python3"
  },
  "language_info": {
   "codemirror_mode": {
    "name": "ipython",
    "version": 3
   },
   "file_extension": ".py",
   "mimetype": "text/x-python",
   "name": "python",
   "nbconvert_exporter": "python",
   "pygments_lexer": "ipython3",
   "version": "3.7.4"
  }
 },
 "nbformat": 4,
 "nbformat_minor": 2
}
