{
 "cells": [
  {
   "cell_type": "raw",
   "metadata": {},
   "source": [
    "Selection Sort\n",
    "\n",
    "--> Given an array you select the smallest elem, put it in the 1st index and then the next smallest and put it in the 2nd index and continue until the whole array is sorted\n",
    "-->Time complexity -- O(n**2)  -->Space complexity -- O(1)\n",
    "\n",
    "[-2, 0, 8, 18]"
   ]
  },
  {
   "cell_type": "code",
   "execution_count": 129,
   "metadata": {},
   "outputs": [
    {
     "data": {
      "text/plain": [
       "[-2, 0, 8, 18]"
      ]
     },
     "execution_count": 129,
     "metadata": {},
     "output_type": "execute_result"
    }
   ],
   "source": [
    "arr = [-2, 8, 0, 18]\n",
    "def selection_sort(arr):\n",
    "    for i in range(len(arr)-1):\n",
    "        for j in range(i+1,len(arr)):\n",
    "            if arr[j] < arr[i]:\n",
    "                arr[j], arr[i] = arr[i], arr[j]\n",
    "    return arr\n",
    "\n",
    "selection_sort(arr)"
   ]
  },
  {
   "cell_type": "raw",
   "metadata": {},
   "source": [
    "Bubble sort\n",
    "--> inner for loop -- for each elem compare the it to its neighbour If its greater swap it Keep doing that until its bubbled up\n",
    "-->Outer for loop -- do this for every elem\n",
    "-->Time complexity -- O(n**2)  -->Space complexity -- O(1)"
   ]
  },
  {
   "cell_type": "code",
   "execution_count": 128,
   "metadata": {},
   "outputs": [
    {
     "data": {
      "text/plain": [
       "[-2, 0, 8, 18]"
      ]
     },
     "execution_count": 128,
     "metadata": {},
     "output_type": "execute_result"
    }
   ],
   "source": [
    "arr = [-2, 8, 0, 18]\n",
    "def bubble_sort(arr):\n",
    "    for i in range(len(arr)):\n",
    "        for j in range(len(arr)-1):\n",
    "            if arr[j] > arr[j+1]:\n",
    "                arr[j], arr[j+1] = arr[j+1], arr[j]\n",
    "    return arr\n",
    "bubble_sort(arr)"
   ]
  },
  {
   "cell_type": "raw",
   "metadata": {},
   "source": [
    "We can improve the bubble sort algo but it will remain O(n**2)\n",
    "1.\n",
    "-->inner loop -- for the 1st pass we can run it till n-1\n",
    "              -- for the 2nd pass we can run it till n-2\n",
    "              -- for the 3rd pass we can run it till n-3  \n",
    "              --in general we can run the inner loop till len(arr)-i-1\n",
    "              when i is 1 we run through n-2, when its 0, till n-1, when its 2, till n-3 See the pattern?\n",
    "Because we know that the lst is sorted up to each of those points since we have bubbled up the biggest element\n",
    "\n",
    "2.We can make sure that the loop doesnt keep going when it can stop\n",
    "we only need to keep the loop outside going when we made a swap inside so we can have a flag bool variable for that\n",
    "-->Reasoning is that if we go through with the 2nd lst without swapping anything, then the lst is now sorted We can break out of the 2nd loop and eliminate redudancy This also works as O(n) if we pass in sth already sorted But complexity is still O(n**2)\n",
    "\n",
    "BUBBLE SORT IS A STABLE SORTING ALGO"
   ]
  },
  {
   "cell_type": "code",
   "execution_count": 132,
   "metadata": {},
   "outputs": [
    {
     "data": {
      "text/plain": [
       "[-2, 0, 8, 18]"
      ]
     },
     "execution_count": 132,
     "metadata": {},
     "output_type": "execute_result"
    }
   ],
   "source": [
    "arr = [-2, 8, 0, 18]\n",
    "def bubble_sort(arr):\n",
    "    flag = False\n",
    "    for i in range(len(arr)):\n",
    "        for j in range(len(arr)-i-1):\n",
    "            if arr[j] > arr[j+1]:\n",
    "                arr[j], arr[j+1] = arr[j+1], arr[j]\n",
    "                flag = True\n",
    "        if flag == False:\n",
    "            break;\n",
    "    return arr\n",
    "bubble_sort(arr)"
   ]
  },
  {
   "cell_type": "code",
   "execution_count": 139,
   "metadata": {},
   "outputs": [
    {
     "data": {
      "text/plain": [
       "'Ujc'"
      ]
     },
     "execution_count": 139,
     "metadata": {},
     "output_type": "execute_result"
    }
   ],
   "source": [
    "'UJC'.capitalize()"
   ]
  },
  {
   "cell_type": "code",
   "execution_count": null,
   "metadata": {},
   "outputs": [],
   "source": []
  }
 ],
 "metadata": {
  "kernelspec": {
   "display_name": "Python 3",
   "language": "python",
   "name": "python3"
  },
  "language_info": {
   "codemirror_mode": {
    "name": "ipython",
    "version": 3
   },
   "file_extension": ".py",
   "mimetype": "text/x-python",
   "name": "python",
   "nbconvert_exporter": "python",
   "pygments_lexer": "ipython3",
   "version": "3.7.4"
  }
 },
 "nbformat": 4,
 "nbformat_minor": 2
}
