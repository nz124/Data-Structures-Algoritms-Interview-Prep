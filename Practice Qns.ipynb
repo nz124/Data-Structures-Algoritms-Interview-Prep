{
 "cells": [
  {
   "cell_type": "code",
   "execution_count": 37,
   "metadata": {},
   "outputs": [],
   "source": [
    "arr = ['Alice', 'Bob', 'Carlos', 'Diana']\n",
    "\n",
    "inp_str = ', '.join(arr)"
   ]
  },
  {
   "cell_type": "code",
   "execution_count": 38,
   "metadata": {},
   "outputs": [
    {
     "data": {
      "text/plain": [
       "'Alice, Bob, Carlos, Diana'"
      ]
     },
     "execution_count": 38,
     "metadata": {},
     "output_type": "execute_result"
    }
   ],
   "source": [
    "inp_str"
   ]
  },
  {
   "cell_type": "code",
   "execution_count": 39,
   "metadata": {},
   "outputs": [],
   "source": [
    "arr = ['Alice', 'Bob', 'Carlos', 'Diana']\n"
   ]
  },
  {
   "cell_type": "code",
   "execution_count": 49,
   "metadata": {},
   "outputs": [],
   "source": []
  },
  {
   "cell_type": "code",
   "execution_count": 50,
   "metadata": {},
   "outputs": [
    {
     "data": {
      "text/plain": [
       "['Alice, ', 'Bob, ', 'Carlos and ', 'Diana']"
      ]
     },
     "execution_count": 50,
     "metadata": {},
     "output_type": "execute_result"
    }
   ],
   "source": [
    "res"
   ]
  },
  {
   "cell_type": "code",
   "execution_count": 51,
   "metadata": {},
   "outputs": [
    {
     "data": {
      "text/plain": [
       "'Alice, Bob, Carlos and Diana'"
      ]
     },
     "execution_count": 51,
     "metadata": {},
     "output_type": "execute_result"
    }
   ],
   "source": [
    "''.join(res)"
   ]
  },
  {
   "cell_type": "code",
   "execution_count": 53,
   "metadata": {},
   "outputs": [],
   "source": [
    "def func1(arr):\n",
    "    res = []\n",
    "    for i in range(len(arr)):\n",
    "        if i == len(arr)-2:\n",
    "            res.append(arr[i] + ' and ')\n",
    "        elif i == len(arr)-1:\n",
    "            res.append(arr[i])\n",
    "        else:\n",
    "            res.append(arr[i] + ', ')\n",
    "    return ''.join(res)"
   ]
  },
  {
   "cell_type": "code",
   "execution_count": null,
   "metadata": {},
   "outputs": [],
   "source": [
    "#['Alice', 'Bob', 'Carlos', 'Diana'] and limit: 2 -->  \"Alice, Bob and 2 more\""
   ]
  },
  {
   "cell_type": "code",
   "execution_count": 292,
   "metadata": {},
   "outputs": [],
   "source": [
    "def func2(arr, limit):\n",
    "    if len(arr) == 1:\n",
    "        return ''.join(arr)\n",
    "    res,right = [],0\n",
    "    if limit == 0 or limit>len(arr):\n",
    "        limit = len(arr)\n",
    "    for i in range(limit):\n",
    "        right = len(arr)-i-1\n",
    "        if right == 0:\n",
    "            res.append(arr[i])\n",
    "        elif right == 1:\n",
    "            res.append(arr[i] + ' and ')\n",
    "        else:\n",
    "            if right == 0:\n",
    "                res.append(arr[i])\n",
    "            else:\n",
    "                res.append(arr[i] + ' and ')\n",
    "    if right != 0:\n",
    "        return ''.join(res) + ' {} more'.format(right)\n",
    "    return ' '.join(res)"
   ]
  },
  {
   "cell_type": "code",
   "execution_count": 301,
   "metadata": {},
   "outputs": [
    {
     "name": "stdout",
     "output_type": "stream",
     "text": [
      "True\n",
      "True\n",
      "True\n",
      "True\n",
      "True\n",
      "True\n",
      "True\n",
      "True\n"
     ]
    }
   ],
   "source": [
    "print(func2(['A', 'B'],1) == 'A and  1 more')\n",
    "print(func2(['A', 'B'],0) == 'A and  B')\n",
    "print(func2(['A', 'B'],2) == 'A and  B')\n",
    "print(func2(['A', 'B'],3) == 'A and  B')\n",
    "print(func2(['A', 'B'],4) == 'A and  B')\n",
    "print(func2(['A', 'B', 'C'],1) == 'A and  2 more')\n",
    "print(func2(['A', 'B', 'C', 'E'],1) == 'A and  3 more')\n",
    "print(func2(['A', 'B', 'C'],2) == 'A and B and  1 more')"
   ]
  },
  {
   "cell_type": "code",
   "execution_count": 299,
   "metadata": {},
   "outputs": [
    {
     "data": {
      "text/plain": [
       "True"
      ]
     },
     "execution_count": 299,
     "metadata": {},
     "output_type": "execute_result"
    }
   ],
   "source": []
  },
  {
   "cell_type": "code",
   "execution_count": 300,
   "metadata": {},
   "outputs": [
    {
     "data": {
      "text/plain": [
       "True"
      ]
     },
     "execution_count": 300,
     "metadata": {},
     "output_type": "execute_result"
    }
   ],
   "source": []
  },
  {
   "cell_type": "code",
   "execution_count": 306,
   "metadata": {},
   "outputs": [],
   "source": [
    "def func2(arr, limit):\n",
    "    j = len(arr) - limit\n",
    "    for i in range(limit):\n",
    "        if i == 0:\n",
    "            res.append(arr[i])\n",
    "        else:\n",
    "            if j == 0:\n",
    "                res.append('and')\n",
    "                res.append(arr[i])\n",
    "            else:\n",
    "                res.append(',')\n",
    "                res.append(arr[i])\n",
    "    if j == 0:\n",
    "        return ' '.join(res)\n",
    "    return ' '.join(res) + 'and {} more'.format(j)"
   ]
  },
  {
   "cell_type": "code",
   "execution_count": 307,
   "metadata": {},
   "outputs": [
    {
     "data": {
      "text/plain": [
       "'Alice,  Bob,  Carlos and  Diana Alice and  Bob Alice and  Bob Alice and  Bob Alice and  Bob A A A'"
      ]
     },
     "execution_count": 307,
     "metadata": {},
     "output_type": "execute_result"
    }
   ],
   "source": []
  },
  {
   "cell_type": "code",
   "execution_count": null,
   "metadata": {},
   "outputs": [],
   "source": []
  }
 ],
 "metadata": {
  "kernelspec": {
   "display_name": "Python 3",
   "language": "python",
   "name": "python3"
  },
  "language_info": {
   "codemirror_mode": {
    "name": "ipython",
    "version": 3
   },
   "file_extension": ".py",
   "mimetype": "text/x-python",
   "name": "python",
   "nbconvert_exporter": "python",
   "pygments_lexer": "ipython3",
   "version": "3.7.4"
  }
 },
 "nbformat": 4,
 "nbformat_minor": 2
}
